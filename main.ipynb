{
 "cells": [
  {
   "cell_type": "code",
   "execution_count": 1,
   "metadata": {},
   "outputs": [],
   "source": [
    "import pymupdf\n",
    "invoice_file = \"./invoices/4.pdf\"\n",
    "\n",
    "doc = pymupdf.open(invoice_file)\n",
    "texts = []\n",
    "for page in doc:\n",
    "    text = page.get_text(\"text\")\n",
    "    texts.append(text)\n",
    "    # print(text)\n"
   ]
  },
  {
   "cell_type": "code",
   "execution_count": 2,
   "metadata": {},
   "outputs": [
    {
     "data": {
      "text/plain": [
       "True"
      ]
     },
     "execution_count": 2,
     "metadata": {},
     "output_type": "execute_result"
    }
   ],
   "source": [
    "import dotenv\n",
    "\n",
    "dotenv.load_dotenv()\n"
   ]
  },
  {
   "cell_type": "code",
   "execution_count": 3,
   "metadata": {},
   "outputs": [],
   "source": [
    "create_prompt = lambda txt : f\"\"\"\n",
    "You are a helpful assistant for automating data entry into an accounting system.\n",
    "Given the text extracted from an invoice, you need to extract the following information:\n",
    "\n",
    "for the invoice get\n",
    "Customer name, Supplier name, document number, document date\n",
    "\n",
    "for each good in the invoice, get the \n",
    "code, Product Name / Recognized Product, Unit, Quantity, Price, Taxable Amount, Tax Rate, Tax, Total Amount\n",
    "\n",
    "Keep the output format strictly as follows:\n",
    "line 1 for invoice titles in csv format\n",
    "line 2 for invoice data in csv format\n",
    "line 3 for goods title in csv format\n",
    "line 4 onwards for goods data in csv format\n",
    "Output no other information.\n",
    "\n",
    "The invoice text is as follows:\n",
    "{txt}\n",
    "\"\"\"\n"
   ]
  },
  {
   "cell_type": "code",
   "execution_count": 4,
   "metadata": {},
   "outputs": [],
   "source": [
    "from langchain_openai import ChatOpenAI\n",
    "\n",
    "llm = ChatOpenAI(model=\"gpt-4o\", temperature=0.3)\n"
   ]
  },
  {
   "cell_type": "code",
   "execution_count": 5,
   "metadata": {},
   "outputs": [
    {
     "data": {
      "text/plain": [
       "'```csv\\nCustomer Name,Supplier Name,Document Number,Document Date\\nINDIUM SOFTWARE (I) LTD,RAJLAXMI INFOTECH,RI/2019-20/1379,13-Jul-2019\\nCode,Product Name / Recognized Product,Unit,Quantity,Price,Taxable Amount,Tax Rate,Tax,Total Amount\\n8523,WD SSD 240 GB,NOS,2,2118.64,4237.28,18%,762.71,5000.00\\n8523,WD 480GB SSD DRIVE,NOS,1,3771.19,3771.19,18%,678.81,4450.00\\n85078000,LAPTOP BATTERY,NOS,1,1900.00,1900.00,18%,342.00,2242.00\\n8544,HD CABLE 10M,NOS,1,250.00,250.00,18%,45.00,295.00\\n8517,ENTER WIRLESS USB ADPTER,NOS,1,250.00,250.00,18%,45.00,295.00\\n```'"
      ]
     },
     "execution_count": 5,
     "metadata": {},
     "output_type": "execute_result"
    }
   ],
   "source": [
    "prompt = create_prompt(texts[0])\n",
    "\n",
    "msg = llm.invoke(prompt)\n",
    "msg.content\n",
    "\n",
    "# print(msg.content, end=\"\", flush=True)\n"
   ]
  },
  {
   "cell_type": "code",
   "execution_count": 11,
   "metadata": {},
   "outputs": [
    {
     "name": "stdout",
     "output_type": "stream",
     "text": [
      "Common Data:\n",
      "             Customer Name      Supplier Name  Document Number Document Date\n",
      "0  INDIUM SOFTWARE (I) LTD  RAJLAXMI INFOTECH  RI/2019-20/1379   13-Jul-2019\n",
      "\n",
      "Item Data:\n",
      "       Code Product Name / Recognized Product Unit Quantity    Price  \\\n",
      "0      8523                     WD SSD 240 GB  NOS        2  2118.64   \n",
      "1      8523                WD 480GB SSD DRIVE  NOS        1  3771.19   \n",
      "2  85078000                    LAPTOP BATTERY  NOS        1  1900.00   \n",
      "3      8544                      HD CABLE 10M  NOS        1   250.00   \n",
      "4      8517          ENTER WIRLESS USB ADPTER  NOS        1   250.00   \n",
      "\n",
      "  Taxable Amount Tax Rate     Tax Total Amount  \n",
      "0        4237.28      18%  762.71      5000.00  \n",
      "1        3771.19      18%  678.81      4450.00  \n",
      "2        1900.00      18%  342.00      2242.00  \n",
      "3         250.00      18%   45.00       295.00  \n",
      "4         250.00      18%   45.00       295.00  \n"
     ]
    }
   ],
   "source": [
    "import pandas as pd\n",
    "import io\n",
    "\n",
    "def process_csv_string(csv_string):\n",
    "    # Remove the markdown code block syntax\n",
    "    csv_string = csv_string.replace('```csv\\n', '').replace('```', '')\n",
    "    \n",
    "    # Split the CSV string into lines\n",
    "    lines = csv_string.strip().split('\\n')\n",
    "    \n",
    "    # Process common data\n",
    "    common_data = dict(zip(lines[0].split(','), lines[1].split(',')))\n",
    "    common_df = pd.DataFrame([common_data])\n",
    "    \n",
    "    # Process item data\n",
    "    item_header = lines[2].split(',')\n",
    "    item_data = [line.split(',') for line in lines[3:]]\n",
    "    item_df = pd.DataFrame(item_data, columns=item_header)\n",
    "    \n",
    "    return common_df, item_df\n",
    "\n",
    "# Your CSV string\n",
    "msg = '''```csv\n",
    "Customer Name,Supplier Name,Document Number,Document Date\n",
    "INDIUM SOFTWARE (I) LTD,RAJLAXMI INFOTECH,RI/2019-20/1379,13-Jul-2019\n",
    "Code,Product Name / Recognized Product,Unit,Quantity,Price,Taxable Amount,Tax Rate,Tax,Total Amount\n",
    "8523,WD SSD 240 GB,NOS,2,2118.64,4237.28,18%,762.71,5000.00\n",
    "8523,WD 480GB SSD DRIVE,NOS,1,3771.19,3771.19,18%,678.81,4450.00\n",
    "85078000,LAPTOP BATTERY,NOS,1,1900.00,1900.00,18%,342.00,2242.00\n",
    "8544,HD CABLE 10M,NOS,1,250.00,250.00,18%,45.00,295.00\n",
    "8517,ENTER WIRLESS USB ADPTER,NOS,1,250.00,250.00,18%,45.00,295.00\n",
    "```'''\n",
    "\n",
    "# Process the CSV string\n",
    "common_df, item_df = process_csv_string(msg)\n",
    "\n",
    "# Display the results\n",
    "print(\"Common Data:\")\n",
    "print(common_df)\n",
    "print(\"\\nItem Data:\")\n",
    "print(item_df)"
   ]
  },
  {
   "cell_type": "code",
   "execution_count": null,
   "metadata": {},
   "outputs": [],
   "source": []
  }
 ],
 "metadata": {
  "kernelspec": {
   "display_name": "myenv",
   "language": "python",
   "name": "python3"
  },
  "language_info": {
   "codemirror_mode": {
    "name": "ipython",
    "version": 3
   },
   "file_extension": ".py",
   "mimetype": "text/x-python",
   "name": "python",
   "nbconvert_exporter": "python",
   "pygments_lexer": "ipython3",
   "version": "3.12.6"
  }
 },
 "nbformat": 4,
 "nbformat_minor": 2
}
